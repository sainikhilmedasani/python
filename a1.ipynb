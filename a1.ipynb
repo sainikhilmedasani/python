{
 "cells": [
  {
   "cell_type": "markdown",
   "metadata": {},
   "source": [
    "Sai Nikhil Medasani\n",
    "Z1909575"
   ]
  },
  {
   "cell_type": "markdown",
   "metadata": {},
   "source": [
    "1.Hello, World"
   ]
  },
  {
   "cell_type": "code",
   "execution_count": 1,
   "metadata": {},
   "outputs": [
    {
     "name": "stdout",
     "output_type": "stream",
     "text": [
      "Hello,\n",
      "World\n"
     ]
    }
   ],
   "source": [
    "print ('Hello,\\nWorld')"
   ]
  },
  {
   "cell_type": "markdown",
   "metadata": {},
   "source": [
    "2.Hello, <name>"
   ]
  },
  {
   "cell_type": "code",
   "execution_count": 2,
   "metadata": {},
   "outputs": [
    {
     "name": "stdout",
     "output_type": "stream",
     "text": [
      "enter Name :Sai Nikhil Medasani\n",
      "Hello, Sai Nikhil Medasani\n"
     ]
    }
   ],
   "source": [
    "Name = input('enter Name :')\n",
    "print('Hello,',Name)"
   ]
  },
  {
   "cell_type": "markdown",
   "metadata": {},
   "source": [
    "3.Physics Equation"
   ]
  },
  {
   "cell_type": "code",
   "execution_count": 3,
   "metadata": {},
   "outputs": [
    {
     "name": "stdout",
     "output_type": "stream",
     "text": [
      "The Final postion(x) is 34.39999999999998\n"
     ]
    }
   ],
   "source": [
    "a = -9.8\n",
    "v0 = 20\n",
    "x0 = 500\n",
    "t = 12\n",
    "x = x0 + (v0 * t) + ((1/2) * a * (t ** 2))\n",
    "print('The Final postion(x) is',x)"
   ]
  },
  {
   "cell_type": "markdown",
   "metadata": {},
   "source": [
    "4.Physics Equation II"
   ]
  },
  {
   "cell_type": "code",
   "execution_count": 4,
   "metadata": {},
   "outputs": [
    {
     "name": "stdout",
     "output_type": "stream",
     "text": [
      "enter current position :35\n"
     ]
    },
    {
     "data": {
      "text/plain": [
       "'+/-97.53973549277238'"
      ]
     },
     "execution_count": 4,
     "metadata": {},
     "output_type": "execute_result"
    }
   ],
   "source": [
    "a = -9.8\n",
    "v0 = 20\n",
    "x0 = 500\n",
    "x = float(input('enter current position :'))\n",
    "s =  (((v0 ** 2) + (2 * a) * (x - x0)) ** (1/2))\n",
    "m = '+/-'\n",
    "v = m + str(s)\n",
    "v"
   ]
  }
 ],
 "metadata": {
  "kernelspec": {
   "display_name": "Python 3",
   "language": "python",
   "name": "python3"
  },
  "language_info": {
   "codemirror_mode": {
    "name": "ipython",
    "version": 3
   },
   "file_extension": ".py",
   "mimetype": "text/x-python",
   "name": "python",
   "nbconvert_exporter": "python",
   "pygments_lexer": "ipython3",
   "version": "3.8.5"
  }
 },
 "nbformat": 4,
 "nbformat_minor": 4
}
