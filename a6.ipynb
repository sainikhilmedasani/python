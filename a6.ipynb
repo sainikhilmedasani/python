{
 "cells": [
  {
   "cell_type": "markdown",
   "metadata": {},
   "source": [
    "Name : Sai Nikhil Medasani <br>\n",
    "Zid  : Z1909575"
   ]
  },
  {
   "cell_type": "code",
   "execution_count": 1,
   "metadata": {},
   "outputs": [],
   "source": [
    "class Academic:\n",
    "    def __init__(self,Campus_id,First_Name,Last_Name,Max_credit):\n",
    "        self.First_Name=First_Name\n",
    "        self.Last_Name=Last_Name\n",
    "        self.Campus_id=Campus_id\n",
    "        self.Max_credit=Max_credit\n",
    "        self.schedule=Schedule()\n",
    "        \n",
    "    def add_course(self,course):\n",
    "        if self.schedule.credits+course.number_of_credits<=self.Max_credit:  \n",
    "            for item in self.schedule.Course_list:\n",
    "                if Course.check_time_conflict(item.times,course.times):\n",
    "                    print(\"error due to conflict\")\n",
    "                    return\n",
    "            self.schedule.Course_list.append(course)\n",
    "        else:\n",
    "            print(\"error due to max credits\")\n",
    "            \n",
    "            \n",
    "    def remove_course(self,course):\n",
    "        self.schedule.Course_list.remove(course)\n",
    "                \n",
    "         \n",
    "\n",
    "        \n",
    "class Student(Academic):\n",
    "    def __init__(self,Campus_id,First_Name,Last_Name,level):\n",
    "        self.level=level\n",
    "        super().__init__(Campus_id,First_Name,Last_Name,Max_credit=16)\n",
    "   \n",
    "    def add_course(self,course):\n",
    "        super().add_course(course)\n",
    "        course.enroll(self)\n",
    "       \n",
    "        \n",
    "        \n",
    "    def remove_course(self,course):\n",
    "        super().remove_course(course)\n",
    "        course.drop(self)\n",
    "        \n",
    "        \n",
    "    \n",
    "class GraduateStudent(Academic):\n",
    "    def __init__(self,Campus_id,First_Name,Last_Name,level='gradute'):\n",
    "        super().__init__(Campus_id,First_Name,Last_Name,Max_credit=12)\n",
    "    \n",
    "    def add_course(self,course):\n",
    "        super().add_course(course)\n",
    "        course.enroll(self)\n",
    "       \n",
    "        \n",
    "        \n",
    "    def remove_course(self,course):\n",
    "        super().remove_course(course)\n",
    "        course.drop(self)\n",
    "        \n",
    "   \n",
    "        \n",
    "\n",
    "class Instructor(Academic):\n",
    "    def __init__(self,Campus_id,First_Name,Last_Name,rank):\n",
    "        self.rank=rank\n",
    "        super().__init__(Campus_id,First_Name,Last_Name,Max_credit=9)\n",
    "        \n",
    "    def add_course(self,course):\n",
    "        super().add_course(course)\n",
    "        course.add_instructor(self)\n",
    "       \n",
    "        \n",
    "        \n",
    "    def remove_course(self,course):\n",
    "        super().remove_course(course)\n",
    "        course.remove_instructor(self)      "
   ]
  },
  {
   "cell_type": "code",
   "execution_count": null,
   "metadata": {},
   "outputs": [],
   "source": []
  },
  {
   "cell_type": "code",
   "execution_count": 2,
   "metadata": {},
   "outputs": [],
   "source": [
    "class Course():\n",
    "    def __init__(self,department, course_number,course_name,section,number_of_credits,times):\n",
    "        self.department=department\n",
    "        self.course_number=course_number\n",
    "        self.course_name=course_name\n",
    "        self.section=section\n",
    "        self.number_of_credits=number_of_credits\n",
    "        self.times=times\n",
    "        self.students=[]\n",
    "        self.instructors = []\n",
    "    \n",
    "         \n",
    "    def enroll(self,student):\n",
    "        self.students.append(student)\n",
    "        \n",
    "    def drop(self,student):\n",
    "        self.students.remove(student)\n",
    "    \n",
    "    def add_instructor(self, instructor):\n",
    "        self.instructors.append(instructor)\n",
    "        \n",
    "    def remove_instructor(self, instructor):\n",
    "        if instructor in self.instructors:\n",
    "            self.instructors.remove(instructor)\n",
    "        \n",
    "    def change_time(self,newtimes):\n",
    "        for i in self.students:\n",
    "            for j in i.schedule.Course_list:\n",
    "                if j != self:\n",
    "                    if Course.check_time_conflict(j.times,newtimes):\n",
    "                        print(\"error due to conflict\")\n",
    "                        return\n",
    "        for i in self.instructors:\n",
    "            for j in i.schedule.Course_list:\n",
    "                if j != self:\n",
    "                    if Course.check_time_conflict(j.times,newtimes):\n",
    "                        print(\"error due to conflict\")\n",
    "                        return\n",
    "        self.times = newtimes\n",
    "            \n",
    "        \n",
    "    def __str__(self):\n",
    "        return f'{self.department} {self.course_number} {self.section} {self.times}'\n",
    "    \n",
    "    @staticmethod\n",
    "    def check_time_conflict(c1_time,c2_time):\n",
    "        for t1 in c1_time:\n",
    "            for t2 in c2_time:\n",
    "                if t1[0]==t2[0]:\n",
    "                    return((t1[1] in range(t2[1]+1,t2[2]))or(t1[2] in range(t2[1]+1,t2[2]))or(t2[1] in range(t1[1]+1,t1[2]))or(t2[2] in range(t1[1]+1,t1[2])))\n",
    "        return False  "
   ]
  },
  {
   "cell_type": "code",
   "execution_count": 3,
   "metadata": {},
   "outputs": [],
   "source": [
    "class Schedule:\n",
    "    def __init__(self):\n",
    "        self.Course_list= []\n",
    "    def __repr__(self):\n",
    "        for course in self.Course_list:\n",
    "            print(course)\n",
    "        return 'Above is the person schedule'    \n",
    "    @property   \n",
    "    def credits(self,sum_credits=0):\n",
    "        for  i  in self.Course_list:\n",
    "            sum_credits=sum_credits+i.number_of_credits\n",
    "        return sum_credits       "
   ]
  },
  {
   "cell_type": "code",
   "execution_count": 4,
   "metadata": {},
   "outputs": [],
   "source": [
    "class Registrar:\n",
    "    def __init__(self):\n",
    "        self.courses={}\n",
    "        self.persons={}\n",
    "        \n",
    "    \n",
    "    def add_persons(self,list1):\n",
    "        for i in list1:\n",
    "            self.persons[i.Campus_id]=i\n",
    "            print(\"person added\")\n",
    "    def add_courses(self,list2):\n",
    "        for i in list2:\n",
    "            self.courses[str(i.department)+str(i.course_number)+str(i.section)]=i\n",
    "            print(\"course added\")\n",
    "            \n",
    "    def add_person_to_course(self,Campus_id,department,course_number,section):\n",
    "        person=self.persons[Campus_id]\n",
    "        course=self.courses[str(department)+str(course_number)+str(section)]\n",
    "        person.add_course(course)\n",
    "    \n",
    "    def remove_person_from_course(self,Campus_id,department,course_number,section):\n",
    "        person=self.persons[Campus_id]\n",
    "        course=self.courses[str(department)+str(course_number)+str(section)]\n",
    "        person.remove_course(course)\n",
    "        \n",
    "    def change_course_time(self,department,course_number,section,times):\n",
    "        course=self.courses[str(department)+str(course_number)+str(section)]\n",
    "        course.change_time(times) \n",
    "        \n",
    "    "
   ]
  },
  {
   "cell_type": "code",
   "execution_count": 5,
   "metadata": {},
   "outputs": [
    {
     "name": "stdout",
     "output_type": "stream",
     "text": [
      "person added\n",
      "person added\n",
      "person added\n",
      "person added\n",
      "person added\n",
      "person added\n",
      "course added\n",
      "course added\n",
      "course added\n",
      "course added\n",
      "course added\n",
      "course added\n"
     ]
    }
   ],
   "source": [
    "s1 = Student(\"z143\", \"Catherine\", \"Smith\", \"Senior\")\n",
    "s2 = Student(\"z352\", \"Niraj\", \"Kumar\", \"Sophomore\")\n",
    "s3 = GraduateStudent(\"z785\", \"Divya\", \"Bharti\")\n",
    "s4 = GraduateStudent(\"z982\", \"James\", \"O'Brien\")\n",
    "\n",
    "i1 = Instructor(\"a421\", \"Jennifer\", \"Martinez\", \"Professor\")\n",
    "i2 = Instructor(\"a572\", \"Jonathan\", \"Jones\", \"Instructor\")\n",
    "\n",
    "c1 = Course(\"CSCI\", 1543, \"Programming Principles in Python\", 1, 3, [(\"Mon\", 10, 12), (\"Wed\", 10, 12)])\n",
    "c2 = Course(\"CSCI\", 1342, \"Computer Networks\", 2, 4, [(\"Tue\", 14, 16), (\"Thu\", 14, 16), (\"Fri\", 12, 13)])\n",
    "c3 = Course(\"CSCI\", 1352, \"Computer Graphics\", 1, 3, [(\"Tue\", 10, 12), (\"Thu\", 10, 12)])\n",
    "c4 = Course(\"SOCI\", 1230, \"Introduction to Sociology\", 1, 3, [(\"Mon\", 11, 13), (\"Thu\", 11, 13)])\n",
    "c5 = Course(\"POLS\", 1100, \"American Politics\", 2, 3, [(\"Tue\", 10, 12), (\"Thu\", 10, 12)])\n",
    "c6 = Course(\"SOCI\", 1450, \"Classical Sociological Theory\", 1, 3, [(\"Mon\", 12, 13), (\"Wed\", 12, 13), (\"Fri\", 12, 13)])\n",
    "\n",
    "r = Registrar()\n",
    "r.add_persons([s1,s2,s3,s4,i1,i2])\n",
    "r.add_courses([c1,c2,c3,c4,c5, c6])"
   ]
  },
  {
   "cell_type": "code",
   "execution_count": 6,
   "metadata": {},
   "outputs": [
    {
     "name": "stdout",
     "output_type": "stream",
     "text": [
      "error due to conflict\n"
     ]
    }
   ],
   "source": [
    "r.add_person_to_course(\"a572\", \"SOCI\", 1230, 1)\n",
    "r.add_person_to_course(\"a572\", \"POLS\", 1100, 2) # error due to conflict"
   ]
  },
  {
   "cell_type": "code",
   "execution_count": 7,
   "metadata": {},
   "outputs": [
    {
     "name": "stdout",
     "output_type": "stream",
     "text": [
      "error due to max credits\n"
     ]
    }
   ],
   "source": [
    "r.change_course_time(\"SOCI\", 1230, 1, [(\"Mon\", 9, 11), (\"Wed\", 9, 11)])\n",
    "r.add_person_to_course(\"a572\", \"SOCI\", 1450, 1)\n",
    "r.add_person_to_course(\"a421\", \"CSCI\", 1543, 1)\n",
    "r.add_person_to_course(\"a421\", \"CSCI\", 1342, 2)\n",
    "r.add_person_to_course(\"a421\", \"CSCI\", 1352, 1) # error due to max credits"
   ]
  },
  {
   "cell_type": "code",
   "execution_count": 8,
   "metadata": {},
   "outputs": [
    {
     "name": "stdout",
     "output_type": "stream",
     "text": [
      "error due to conflict\n"
     ]
    }
   ],
   "source": [
    "r.add_person_to_course(\"z785\", \"SOCI\", 1230, 1)\n",
    "r.add_person_to_course(\"z785\", \"CSCI\", 1352, 1)\n",
    "r.add_person_to_course(\"z143\", \"CSCI\", 1543, 1)\n",
    "r.add_person_to_course(\"z143\", \"CSCI\", 1342, 2)\n",
    "r.add_person_to_course(\"z143\", \"SOCI\", 1230, 1) # error due to conflict"
   ]
  },
  {
   "cell_type": "code",
   "execution_count": 9,
   "metadata": {},
   "outputs": [
    {
     "name": "stdout",
     "output_type": "stream",
     "text": [
      "error due to conflict\n"
     ]
    }
   ],
   "source": [
    "r.change_course_time( \"SOCI\", 1230, 1, [(\"Tue\", 11, 13), (\"Thu\", 11, 13)]) # error due to conflict"
   ]
  },
  {
   "cell_type": "code",
   "execution_count": 10,
   "metadata": {},
   "outputs": [],
   "source": [
    "r.change_course_time( \"SOCI\", 1230, 1, [(\"Tue\", 12, 14), (\"Thu\", 12, 14)])\n",
    "r.add_person_to_course(\"z143\", \"SOCI\", 1230, 1)"
   ]
  },
  {
   "cell_type": "code",
   "execution_count": 11,
   "metadata": {},
   "outputs": [
    {
     "name": "stdout",
     "output_type": "stream",
     "text": [
      "CSCI 1543 1 [('Mon', 10, 12), ('Wed', 10, 12)]\n",
      "CSCI 1342 2 [('Tue', 14, 16), ('Thu', 14, 16), ('Fri', 12, 13)]\n",
      "SOCI 1230 1 [('Tue', 12, 14), ('Thu', 12, 14)]\n"
     ]
    },
    {
     "data": {
      "text/plain": [
       "Above is the person schedule"
      ]
     },
     "execution_count": 11,
     "metadata": {},
     "output_type": "execute_result"
    }
   ],
   "source": [
    "r.persons['z143'].schedule"
   ]
  }
 ],
 "metadata": {
  "kernelspec": {
   "display_name": "Python 3",
   "language": "python",
   "name": "python3"
  },
  "language_info": {
   "codemirror_mode": {
    "name": "ipython",
    "version": 3
   },
   "file_extension": ".py",
   "mimetype": "text/x-python",
   "name": "python",
   "nbconvert_exporter": "python",
   "pygments_lexer": "ipython3",
   "version": "3.8.5"
  }
 },
 "nbformat": 4,
 "nbformat_minor": 4
}
