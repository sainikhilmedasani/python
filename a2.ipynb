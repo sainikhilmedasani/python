{
 "cells": [
  {
   "cell_type": "markdown",
   "metadata": {},
   "source": [
    "Name : Sai Nikhil Medasani<br>\n",
    "Zid: Z1909575"
   ]
  },
  {
   "cell_type": "markdown",
   "metadata": {},
   "source": [
    "1.Write a function orbit that for any positive integer n, computes and prints the orbit of the 7x±1  function documented by Barina, stopping at 1. For example, orbit(5) would produce the result 5, 36, 18, 9, 64, 32, 16, 8, 4, 2, 1. Print the numbers with commas in between them, but no comma at the end. Test your method by calling it on the inputs from 1 to 20. Sample output (scrolls horizontally):"
   ]
  },
  {
   "cell_type": "code",
   "execution_count": 1,
   "metadata": {},
   "outputs": [
    {
     "name": "stdout",
     "output_type": "stream",
     "text": [
      "1 \n",
      "\n",
      "2, 1\n",
      "\n",
      "3, 20, 10, 5, 36, 18, 9, 64, 32, 16, 8, 4, 2, 1\n",
      "\n",
      "4, 2, 1\n",
      "\n",
      "5, 36, 18, 9, 64, 32, 16, 8, 4, 2, 1\n",
      "\n",
      "6, 3, 20, 10, 5, 36, 18, 9, 64, 32, 16, 8, 4, 2, 1\n",
      "\n",
      "7, 48, 24, 12, 6, 3, 20, 10, 5, 36, 18, 9, 64, 32, 16, 8, 4, 2, 1\n",
      "\n",
      "8, 4, 2, 1\n",
      "\n",
      "9, 64, 32, 16, 8, 4, 2, 1\n",
      "\n",
      "10, 5, 36, 18, 9, 64, 32, 16, 8, 4, 2, 1\n",
      "\n",
      "11, 76, 38, 19, 132, 66, 33, 232, 116, 58, 29, 204, 102, 51, 356, 178, 89, 624, 312, 156, 78, 39, 272, 136, 68, 34, 17, 120, 60, 30, 15, 104, 52, 26, 13, 92, 46, 23, 160, 80, 40, 20, 10, 5, 36, 18, 9, 64, 32, 16, 8, 4, 2, 1\n",
      "\n",
      "12, 6, 3, 20, 10, 5, 36, 18, 9, 64, 32, 16, 8, 4, 2, 1\n",
      "\n",
      "13, 92, 46, 23, 160, 80, 40, 20, 10, 5, 36, 18, 9, 64, 32, 16, 8, 4, 2, 1\n",
      "\n",
      "14, 7, 48, 24, 12, 6, 3, 20, 10, 5, 36, 18, 9, 64, 32, 16, 8, 4, 2, 1\n",
      "\n",
      "15, 104, 52, 26, 13, 92, 46, 23, 160, 80, 40, 20, 10, 5, 36, 18, 9, 64, 32, 16, 8, 4, 2, 1\n",
      "\n",
      "16, 8, 4, 2, 1\n",
      "\n",
      "17, 120, 60, 30, 15, 104, 52, 26, 13, 92, 46, 23, 160, 80, 40, 20, 10, 5, 36, 18, 9, 64, 32, 16, 8, 4, 2, 1\n",
      "\n",
      "18, 9, 64, 32, 16, 8, 4, 2, 1\n",
      "\n",
      "19, 132, 66, 33, 232, 116, 58, 29, 204, 102, 51, 356, 178, 89, 624, 312, 156, 78, 39, 272, 136, 68, 34, 17, 120, 60, 30, 15, 104, 52, 26, 13, 92, 46, 23, 160, 80, 40, 20, 10, 5, 36, 18, 9, 64, 32, 16, 8, 4, 2, 1\n",
      "\n",
      "20, 10, 5, 36, 18, 9, 64, 32, 16, 8, 4, 2, 1\n",
      "\n"
     ]
    }
   ],
   "source": [
    "def Print(sn):\n",
    "    while sn != 1:\n",
    "        if (sn % 2 == 0):\n",
    "            sn = int(sn / 2)\n",
    "        elif (sn % 4 == 1):\n",
    "            sn = int((7 * sn) + 1)\n",
    "        elif (sn % 4 == 3):\n",
    "            sn = int((7 * sn) - 1)\n",
    "        print(sn, end = \", \" if (sn != 1) else \"\\n\")\n",
    "    print()\n",
    "def orbit(sn):\n",
    "    if(sn==1):\n",
    "        print(str(sn),'\\n')\n",
    "    elif((sn%2==0)or(sn%2==1)):\n",
    "        print(str(sn),end = \", \")\n",
    "        Print(sn)\n",
    "for sn in range(1,21):         \n",
    "    orbit(sn)  "
   ]
  },
  {
   "cell_type": "markdown",
   "metadata": {},
   "source": [
    "2.Now, write a function stopping_time that for any positive integer n returns the stopping time of the orbit produced by the  7x±1 function. Recall that this is the number of steps required to get to 1. For example, stopping_time(5) would return 10. Do not use the print method in the stopping_time method. Test your method by calling it on the inputs from 1 to 20. Write the results next to the input."
   ]
  },
  {
   "cell_type": "code",
   "execution_count": 3,
   "metadata": {},
   "outputs": [
    {
     "name": "stdout",
     "output_type": "stream",
     "text": [
      "1: 0\n",
      "2: 1\n",
      "3: 13\n",
      "4: 2\n",
      "5: 10\n",
      "6: 14\n",
      "7: 18\n",
      "8: 3\n",
      "9: 7\n",
      "10: 11\n",
      "11: 53\n",
      "12: 15\n",
      "13: 19\n",
      "14: 19\n",
      "15: 23\n",
      "16: 4\n",
      "17: 27\n",
      "18: 8\n",
      "19: 50\n",
      "20: 12\n"
     ]
    }
   ],
   "source": [
    "def stopping_time(sn):\n",
    "    required_steps = 0\n",
    "    while sn != 1:\n",
    "        if (sn % 2 == 0):\n",
    "            sn = int(sn / 2)\n",
    "        elif (sn % 4 == 1):\n",
    "            sn = int((7 * sn) + 1)\n",
    "        elif (sn % 4 == 3):\n",
    "            sn = int((7 * sn) - 1)\n",
    "        required_steps += 1\n",
    "    return required_steps\n",
    "for sn in range(1, 21):\n",
    "    print(str(sn) + \":\", stopping_time(sn))"
   ]
  },
  {
   "cell_type": "markdown",
   "metadata": {},
   "source": [
    "3.Using the stopping_time method, write a new method that, given an input number m, returns two results: the largest number which has the maximum stopping time of all numbers between 1 and m and its stopping time. You must use the walrus operator (:=) in this method. For example, calling this function on 100 returns 70, 326. Use this function to compute and print the results of this longest progression calculation for the inputs 10, 20, 30, 40, 50, 60, 70, 80, 90, 100.\n",
    "\n",
    "//range() with Start, Stop and Step Arguments//"
   ]
  },
  {
   "cell_type": "code",
   "execution_count": 3,
   "metadata": {},
   "outputs": [
    {
     "name": "stdout",
     "output_type": "stream",
     "text": [
      "(7, 18)\n",
      "(11, 53)\n",
      "(21, 73)\n",
      "(35, 325)\n",
      "(35, 325)\n",
      "(35, 325)\n",
      "(70, 326)\n",
      "(70, 326)\n",
      "(70, 326)\n",
      "(70, 326)\n"
     ]
    }
   ],
   "source": [
    "def longest_progression(sn):\n",
    "    max_stopping_time = 0\n",
    "    max_orbit_value = 0\n",
    "    while sn > 0:\n",
    "        if (temp := stopping_time(sn)) > max_stopping_time:\n",
    "            max_stopping_time = temp\n",
    "            max_orbit_value = sn\n",
    "        sn = sn-1\n",
    "    return max_orbit_value, max_stopping_time\n",
    "for m in range(10, 101, 10): \n",
    "    print(longest_progression(m))"
   ]
  }
 ],
 "metadata": {
  "kernelspec": {
   "display_name": "Python 3",
   "language": "python",
   "name": "python3"
  },
  "language_info": {
   "codemirror_mode": {
    "name": "ipython",
    "version": 3
   },
   "file_extension": ".py",
   "mimetype": "text/x-python",
   "name": "python",
   "nbconvert_exporter": "python",
   "pygments_lexer": "ipython3",
   "version": "3.8.5"
  }
 },
 "nbformat": 4,
 "nbformat_minor": 4
}
